{
 "cells": [
  {
   "cell_type": "markdown",
   "metadata": {},
   "source": [
    "# 1. Mathematical Justification\n",
    "Cross Entropy Cost Function:\n",
    "$$\n",
    "C = -\\sum_j{t_j log(y_j)}\n",
    "$$"
   ]
  },
  {
   "cell_type": "markdown",
   "metadata": {},
   "source": [
    "Softmax:\n",
    "$$\n",
    "y_i = \\frac{e^{z_i}}{\\sum_{j \\in group }{e^{z_{j}}}}\n",
    "$$"
   ]
  },
  {
   "cell_type": "markdown",
   "metadata": {},
   "source": [
    "Log Probability:\n",
    "$$\n",
    "log(y_i) \n",
    "= log(\\frac{e^{z_i}}{\\sum_{j \\in group }{e^{z_{j}}}})\n",
    "= log(e^{z_i}) - log(\\sum_{j \\in group }{e^{z_{j}}})\n",
    "$$"
   ]
  },
  {
   "cell_type": "markdown",
   "metadata": {},
   "source": [
    "calculating the above terms could be dangerous, in a way that the exponential of big numbers can be really big, which is not a best practise for any programming languages. \n",
    "Assuming we have N elements in our group. $$ j \\in (1,2,...,N)$$ instead of calculating potentially N giant numbers and add them up, we try to calculate one giant number one time - the biggest of the group, and then calculate N small numbers."
   ]
  },
  {
   "cell_type": "markdown",
   "metadata": {},
   "source": [
    "$$\n",
    "log(\\sum_{j \\in group }{e^{z_{j}}})\n",
    "= log(e^{z_{max}}\\sum_{j \\in group }{(e^{z_{j}} / e^{z_{max}})})\n",
    "= log(e^{z_{max}}\\sum_{j \\in group }{e^{z_{j} - z_{max}}})\n",
    "$$"
   ]
  },
  {
   "cell_type": "markdown",
   "metadata": {},
   "source": [
    "For those of you who prefer this format:\n",
    "\n",
    "$$\n",
    "log(e^{z_{1}} + e^{z_{2}} + ... + e^{z_{N}})\n",
    "= log(\\frac{(e^{z_{1}} + e^{z_{2}} + ... + e^{z_{N}}) }{e^{z_{max}}} e^{z_{max}} ) \n",
    "= log((e^{z_{1}-z_{max}} + e^{z_{2}-z_{max}} + ... + e^{z_{N}-z_{max}})*e^{z_{max}} ) \n",
    "$$"
   ]
  },
  {
   "cell_type": "markdown",
   "metadata": {},
   "source": [
    "Since $$ log(ab) = log(a) + log(b)$$"
   ]
  },
  {
   "cell_type": "markdown",
   "metadata": {},
   "source": [
    "So that:\n",
    "$$\n",
    "log(e^{z_{1}} + e^{z_{2}} + ... + e^{z_{N}})\n",
    "= log(e^{z_{1}-z_{max}} + e^{z_{2}-z_{max}} + ... + e^{z_{N}-z_{max}}) + log(e^{z_{max}}) \n",
    "= log(e^{z_{1}-z_{max}} + e^{z_{2}-z_{max}} + ... + e^{z_{N}-z_{max}}) + z_{max}\n",
    "$$"
   ]
  },
  {
   "cell_type": "markdown",
   "metadata": {},
   "source": [
    "This is basically the mathematically representation of the more \"numerically stable\" implementation. \n",
    "since $ z_i - z_{max} $ are all negative, so there won't be any exponential calculation that can be greater than 1. So in this way, we almost ** avoid large exponential calculation ** out of our implementation.\n",
    "\n",
    "Below is the Octave correspondence of the math representation above:\n",
    "\n",
    "$$ \\mbox{ret = log(sum(exp(a - maxs_big), 1)) + maxs_small}$$"
   ]
  },
  {
   "cell_type": "markdown",
   "metadata": {},
   "source": [
    "# 2. Practical Justification"
   ]
  },
  {
   "cell_type": "code",
   "execution_count": 70,
   "metadata": {
    "collapsed": false
   },
   "outputs": [],
   "source": [
    "# Here is the Octave implementation\n",
    "# \n",
    "# function ret = log_sum_exp_over_rows(a)\n",
    "#   % This computes log(sum(exp(a), 1)) in a numerically stable way\n",
    "#   maxs_small = max(a, [], 1);\n",
    "#   maxs_big = repmat(maxs_small, [size(a, 1), 1]);\n",
    "#   ret = log(sum(exp(a - maxs_big), 1)) + maxs_small;\n",
    "# end"
   ]
  },
  {
   "cell_type": "code",
   "execution_count": 71,
   "metadata": {
    "collapsed": true
   },
   "outputs": [],
   "source": [
    "import numpy as np\n",
    "import numpy.matlib"
   ]
  },
  {
   "cell_type": "code",
   "execution_count": 72,
   "metadata": {
    "collapsed": false
   },
   "outputs": [
    {
     "name": "stdout",
     "output_type": "stream",
     "text": [
      "[[ 0  1  2]\n",
      " [ 3  4  5]\n",
      " [ 6  7  8]\n",
      " [ 9 10 11]]\n"
     ]
    }
   ],
   "source": [
    "z = np.arange(12).reshape(4,3)\n",
    "print z"
   ]
  },
  {
   "cell_type": "code",
   "execution_count": 73,
   "metadata": {
    "collapsed": false
   },
   "outputs": [
    {
     "data": {
      "text/plain": [
       "array([  9.05106304,  10.05106304,  11.05106304])"
      ]
     },
     "execution_count": 73,
     "metadata": {},
     "output_type": "execute_result"
    }
   ],
   "source": [
    "# Numeric Unstable Implementation\n",
    "np.log(np.sum(np.exp(z), axis=0))"
   ]
  },
  {
   "cell_type": "code",
   "execution_count": 74,
   "metadata": {
    "collapsed": false
   },
   "outputs": [
    {
     "name": "stdout",
     "output_type": "stream",
     "text": [
      "maxs_small:\n",
      "[18 22 26]\n",
      "maxs_big:\n",
      "[[18 22 26]\n",
      " [18 22 26]\n",
      " [18 22 26]\n",
      " [18 22 26]]\n",
      "ret:\n",
      "[  9.05106304  10.05106304  11.05106304]\n"
     ]
    }
   ],
   "source": [
    "# Numeric Stable Implementation\n",
    "maxs_small = z.sum(axis=0)\n",
    "print 'maxs_small:'\n",
    "print maxs_small\n",
    "maxs_big = np.matlib.repmat(maxs_small, np.size(z, 0), 1)\n",
    "print 'maxs_big:'\n",
    "print maxs_big\n",
    "ret = np.log(np.sum(np.exp(z - maxs_big), axis=0)) + maxs_small\n",
    "print 'ret:'\n",
    "print ret"
   ]
  }
 ],
 "metadata": {
  "kernelspec": {
   "display_name": "Python [Root]",
   "language": "python",
   "name": "Python [Root]"
  },
  "language_info": {
   "codemirror_mode": {
    "name": "ipython",
    "version": 2
   },
   "file_extension": ".py",
   "mimetype": "text/x-python",
   "name": "python",
   "nbconvert_exporter": "python",
   "pygments_lexer": "ipython2",
   "version": "2.7.12"
  }
 },
 "nbformat": 4,
 "nbformat_minor": 0
}
